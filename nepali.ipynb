{
  "nbformat": 4,
  "nbformat_minor": 0,
  "metadata": {
    "colab": {
      "provenance": [],
      "mount_file_id": "1PmpGpBFM4mak2uvWZo1eIIAwfG6E38Ge",
      "authorship_tag": "ABX9TyOYNk14OWnENEjwlvxJdayp"
    },
    "kernelspec": {
      "name": "python3",
      "display_name": "Python 3"
    },
    "language_info": {
      "name": "python"
    }
  },
  "cells": [
    {
      "cell_type": "code",
      "execution_count": 25,
      "metadata": {
        "colab": {
          "base_uri": "https://localhost:8080/"
        },
        "id": "QjqrTboQipjM",
        "outputId": "1e2ff918-d12e-4d2f-adfd-e96e3eaafc09"
      },
      "outputs": [
        {
          "output_type": "stream",
          "name": "stderr",
          "text": [
            "[nltk_data] Downloading package stopwords to /root/nltk_data...\n",
            "[nltk_data]   Package stopwords is already up-to-date!\n",
            "[nltk_data] Downloading package wordnet to /root/nltk_data...\n",
            "[nltk_data]   Package wordnet is already up-to-date!\n",
            "[nltk_data] Downloading package punkt to /root/nltk_data...\n",
            "[nltk_data]   Package punkt is already up-to-date!\n"
          ]
        }
      ],
      "source": [
        "import re\n",
        "import nltk\n",
        "import pickle\n",
        "import numpy as np\n",
        "import pandas as pd\n",
        "import seaborn as sns\n",
        "import matplotlib.pyplot as plt\n",
        "from nltk.corpus import stopwords\n",
        "nltk.download('stopwords')\n",
        "from nltk.stem import PorterStemmer\n",
        "from nltk.stem import WordNetLemmatizer\n",
        "nltk.download('wordnet')\n",
        "from nltk.tokenize import word_tokenize\n",
        "from nltk.tokenize import sent_tokenize\n",
        "nltk.download('punkt')\n",
        "from wordcloud import WordCloud\n",
        "from sklearn.model_selection import train_test_split\n",
        "from sklearn.feature_extraction.text import CountVectorizer\n",
        "from sklearn.feature_extraction.text import TfidfVectorizer\n",
        "from sklearn.metrics import accuracy_score\n",
        "from sklearn.metrics import confusion_matrix\n",
        "from sklearn.metrics import classification_report\n",
        "from sklearn.metrics import make_scorer, roc_curve, roc_auc_score\n",
        "from sklearn.metrics import precision_recall_fscore_support as score\n",
        "from sklearn.metrics.pairwise import cosine_similarity\n",
        "from sklearn.multiclass import OneVsRestClassifier\n",
        "from sklearn.linear_model import LogisticRegression\n",
        "from sklearn.svm import SVC, LinearSVC\n",
        "from sklearn.tree import DecisionTreeClassifier\n",
        "from sklearn.ensemble import RandomForestClassifier\n",
        "from sklearn.neighbors import KNeighborsClassifier\n",
        "from sklearn.naive_bayes import GaussianNB,MultinomialNB,BernoulliNB\n",
        "font=\"Mangal Regular.ttf\"\n",
        "font=\"Preeti.ttf\"\n",
        "font=\"Aparajita.ttf\"\n",
        "font=\"gargi.ttf\"\n",
        "font=\"Nirmala UI\"\n",
        "\n"
      ]
    },
    {
      "cell_type": "code",
      "source": [
        "from google.colab import drive\n",
        "drive.mount('/content/drive')"
      ],
      "metadata": {
        "colab": {
          "base_uri": "https://localhost:8080/"
        },
        "id": "kb2Cg_8siuXc",
        "outputId": "ec466a62-aa88-4ac1-ee00-8b2b57ddaaf4"
      },
      "execution_count": 11,
      "outputs": [
        {
          "output_type": "stream",
          "name": "stdout",
          "text": [
            "Drive already mounted at /content/drive; to attempt to forcibly remount, call drive.mount(\"/content/drive\", force_remount=True).\n"
          ]
        }
      ]
    },
    {
      "cell_type": "code",
      "source": [
        "dataset = pd.read_csv(\"/content/drive/MyDrive/Colab Notebooks/train.csv\")\n",
        "dataset.head()"
      ],
      "metadata": {
        "colab": {
          "base_uri": "https://localhost:8080/",
          "height": 206
        },
        "id": "xdbUkPSJiweL",
        "outputId": "309c9338-617d-4ed2-fa0f-ab0887b2e4ec"
      },
      "execution_count": 12,
      "outputs": [
        {
          "output_type": "execute_result",
          "data": {
            "text/plain": [
              "                              headings  \\\n",
              "0  ‘लभ स्टेसन’ भियतनाम र इन्डोनेसियामा   \n",
              "1          चाडबाडलगत्तै तरकारी सस्तियो   \n",
              "2       किङ्गफिसर बियर नेपाली बजारमा     \n",
              "3          अर्बपतिका आँखा अन्तरिक्षतिर   \n",
              "4              ‘आई एम सरी’ भन्दै सौगात   \n",
              "\n",
              "                                               paras          label  \n",
              "0  नेपाली कथानक फिल्म ‘लभ स्टेसन’ को टिम यति बेला...  entertainment  \n",
              "1  दसैंको मुखमा अस्वाभाविक बढेको तरकारी तथा फलफूल...       business  \n",
              "2  एशियाकै ठूलो बियर कम्पनी मध्येको युनाइटेड ब्रु...       business  \n",
              "3  संसारका धनाढ्यहरू अन्तरिक्ष यात्रालाई सस्तो र ...       business  \n",
              "4  निकेश खड्का निर्देशित फिल्म ‘फाटेको जुत्ता’ को...  entertainment  "
            ],
            "text/html": [
              "\n",
              "  <div id=\"df-cc783e92-d99f-4560-8247-613113674a89\">\n",
              "    <div class=\"colab-df-container\">\n",
              "      <div>\n",
              "<style scoped>\n",
              "    .dataframe tbody tr th:only-of-type {\n",
              "        vertical-align: middle;\n",
              "    }\n",
              "\n",
              "    .dataframe tbody tr th {\n",
              "        vertical-align: top;\n",
              "    }\n",
              "\n",
              "    .dataframe thead th {\n",
              "        text-align: right;\n",
              "    }\n",
              "</style>\n",
              "<table border=\"1\" class=\"dataframe\">\n",
              "  <thead>\n",
              "    <tr style=\"text-align: right;\">\n",
              "      <th></th>\n",
              "      <th>headings</th>\n",
              "      <th>paras</th>\n",
              "      <th>label</th>\n",
              "    </tr>\n",
              "  </thead>\n",
              "  <tbody>\n",
              "    <tr>\n",
              "      <th>0</th>\n",
              "      <td>‘लभ स्टेसन’ भियतनाम र इन्डोनेसियामा</td>\n",
              "      <td>नेपाली कथानक फिल्म ‘लभ स्टेसन’ को टिम यति बेला...</td>\n",
              "      <td>entertainment</td>\n",
              "    </tr>\n",
              "    <tr>\n",
              "      <th>1</th>\n",
              "      <td>चाडबाडलगत्तै तरकारी सस्तियो</td>\n",
              "      <td>दसैंको मुखमा अस्वाभाविक बढेको तरकारी तथा फलफूल...</td>\n",
              "      <td>business</td>\n",
              "    </tr>\n",
              "    <tr>\n",
              "      <th>2</th>\n",
              "      <td>किङ्गफिसर बियर नेपाली बजारमा</td>\n",
              "      <td>एशियाकै ठूलो बियर कम्पनी मध्येको युनाइटेड ब्रु...</td>\n",
              "      <td>business</td>\n",
              "    </tr>\n",
              "    <tr>\n",
              "      <th>3</th>\n",
              "      <td>अर्बपतिका आँखा अन्तरिक्षतिर</td>\n",
              "      <td>संसारका धनाढ्यहरू अन्तरिक्ष यात्रालाई सस्तो र ...</td>\n",
              "      <td>business</td>\n",
              "    </tr>\n",
              "    <tr>\n",
              "      <th>4</th>\n",
              "      <td>‘आई एम सरी’ भन्दै सौगात</td>\n",
              "      <td>निकेश खड्का निर्देशित फिल्म ‘फाटेको जुत्ता’ को...</td>\n",
              "      <td>entertainment</td>\n",
              "    </tr>\n",
              "  </tbody>\n",
              "</table>\n",
              "</div>\n",
              "      <button class=\"colab-df-convert\" onclick=\"convertToInteractive('df-cc783e92-d99f-4560-8247-613113674a89')\"\n",
              "              title=\"Convert this dataframe to an interactive table.\"\n",
              "              style=\"display:none;\">\n",
              "        \n",
              "  <svg xmlns=\"http://www.w3.org/2000/svg\" height=\"24px\"viewBox=\"0 0 24 24\"\n",
              "       width=\"24px\">\n",
              "    <path d=\"M0 0h24v24H0V0z\" fill=\"none\"/>\n",
              "    <path d=\"M18.56 5.44l.94 2.06.94-2.06 2.06-.94-2.06-.94-.94-2.06-.94 2.06-2.06.94zm-11 1L8.5 8.5l.94-2.06 2.06-.94-2.06-.94L8.5 2.5l-.94 2.06-2.06.94zm10 10l.94 2.06.94-2.06 2.06-.94-2.06-.94-.94-2.06-.94 2.06-2.06.94z\"/><path d=\"M17.41 7.96l-1.37-1.37c-.4-.4-.92-.59-1.43-.59-.52 0-1.04.2-1.43.59L10.3 9.45l-7.72 7.72c-.78.78-.78 2.05 0 2.83L4 21.41c.39.39.9.59 1.41.59.51 0 1.02-.2 1.41-.59l7.78-7.78 2.81-2.81c.8-.78.8-2.07 0-2.86zM5.41 20L4 18.59l7.72-7.72 1.47 1.35L5.41 20z\"/>\n",
              "  </svg>\n",
              "      </button>\n",
              "      \n",
              "  <style>\n",
              "    .colab-df-container {\n",
              "      display:flex;\n",
              "      flex-wrap:wrap;\n",
              "      gap: 12px;\n",
              "    }\n",
              "\n",
              "    .colab-df-convert {\n",
              "      background-color: #E8F0FE;\n",
              "      border: none;\n",
              "      border-radius: 50%;\n",
              "      cursor: pointer;\n",
              "      display: none;\n",
              "      fill: #1967D2;\n",
              "      height: 32px;\n",
              "      padding: 0 0 0 0;\n",
              "      width: 32px;\n",
              "    }\n",
              "\n",
              "    .colab-df-convert:hover {\n",
              "      background-color: #E2EBFA;\n",
              "      box-shadow: 0px 1px 2px rgba(60, 64, 67, 0.3), 0px 1px 3px 1px rgba(60, 64, 67, 0.15);\n",
              "      fill: #174EA6;\n",
              "    }\n",
              "\n",
              "    [theme=dark] .colab-df-convert {\n",
              "      background-color: #3B4455;\n",
              "      fill: #D2E3FC;\n",
              "    }\n",
              "\n",
              "    [theme=dark] .colab-df-convert:hover {\n",
              "      background-color: #434B5C;\n",
              "      box-shadow: 0px 1px 3px 1px rgba(0, 0, 0, 0.15);\n",
              "      filter: drop-shadow(0px 1px 2px rgba(0, 0, 0, 0.3));\n",
              "      fill: #FFFFFF;\n",
              "    }\n",
              "  </style>\n",
              "\n",
              "      <script>\n",
              "        const buttonEl =\n",
              "          document.querySelector('#df-cc783e92-d99f-4560-8247-613113674a89 button.colab-df-convert');\n",
              "        buttonEl.style.display =\n",
              "          google.colab.kernel.accessAllowed ? 'block' : 'none';\n",
              "\n",
              "        async function convertToInteractive(key) {\n",
              "          const element = document.querySelector('#df-cc783e92-d99f-4560-8247-613113674a89');\n",
              "          const dataTable =\n",
              "            await google.colab.kernel.invokeFunction('convertToInteractive',\n",
              "                                                     [key], {});\n",
              "          if (!dataTable) return;\n",
              "\n",
              "          const docLinkHtml = 'Like what you see? Visit the ' +\n",
              "            '<a target=\"_blank\" href=https://colab.research.google.com/notebooks/data_table.ipynb>data table notebook</a>'\n",
              "            + ' to learn more about interactive tables.';\n",
              "          element.innerHTML = '';\n",
              "          dataTable['output_type'] = 'display_data';\n",
              "          await google.colab.output.renderOutput(dataTable, element);\n",
              "          const docLink = document.createElement('div');\n",
              "          docLink.innerHTML = docLinkHtml;\n",
              "          element.appendChild(docLink);\n",
              "        }\n",
              "      </script>\n",
              "    </div>\n",
              "  </div>\n",
              "  "
            ]
          },
          "metadata": {},
          "execution_count": 12
        }
      ]
    },
    {
      "cell_type": "code",
      "source": [
        "dataset['label'].value_counts()"
      ],
      "metadata": {
        "colab": {
          "base_uri": "https://localhost:8080/"
        },
        "id": "ER0klRGei_Oh",
        "outputId": "df07a840-03f0-429b-de54-400ee69a5285"
      },
      "execution_count": 16,
      "outputs": [
        {
          "output_type": "execute_result",
          "data": {
            "text/plain": [
              "business         2118\n",
              "sports           2040\n",
              "entertainment    1817\n",
              "Name: label, dtype: int64"
            ]
          },
          "metadata": {},
          "execution_count": 16
        }
      ]
    },
    {
      "cell_type": "code",
      "source": [
        "target_category = dataset['label'].unique()\n",
        "print(target_category)"
      ],
      "metadata": {
        "colab": {
          "base_uri": "https://localhost:8080/"
        },
        "id": "B7LR-kiwjCOl",
        "outputId": "f72fc5bd-36e7-4e1c-897e-44d00ff7abb4"
      },
      "execution_count": 17,
      "outputs": [
        {
          "output_type": "stream",
          "name": "stdout",
          "text": [
            "['entertainment' 'business' 'sports']\n"
          ]
        }
      ]
    },
    {
      "cell_type": "code",
      "source": [
        "dataset['CategoryId'] = dataset['label'].factorize()[0]\n",
        "dataset.head()"
      ],
      "metadata": {
        "colab": {
          "base_uri": "https://localhost:8080/",
          "height": 206
        },
        "id": "wJptWBpyjMUT",
        "outputId": "6e0e04dd-e809-400c-fef4-b4c121eb9f16"
      },
      "execution_count": 18,
      "outputs": [
        {
          "output_type": "execute_result",
          "data": {
            "text/plain": [
              "                              headings  \\\n",
              "0  ‘लभ स्टेसन’ भियतनाम र इन्डोनेसियामा   \n",
              "1          चाडबाडलगत्तै तरकारी सस्तियो   \n",
              "2       किङ्गफिसर बियर नेपाली बजारमा     \n",
              "3          अर्बपतिका आँखा अन्तरिक्षतिर   \n",
              "4              ‘आई एम सरी’ भन्दै सौगात   \n",
              "\n",
              "                                               paras          label  \\\n",
              "0  नेपाली कथानक फिल्म ‘लभ स्टेसन’ को टिम यति बेला...  entertainment   \n",
              "1  दसैंको मुखमा अस्वाभाविक बढेको तरकारी तथा फलफूल...       business   \n",
              "2  एशियाकै ठूलो बियर कम्पनी मध्येको युनाइटेड ब्रु...       business   \n",
              "3  संसारका धनाढ्यहरू अन्तरिक्ष यात्रालाई सस्तो र ...       business   \n",
              "4  निकेश खड्का निर्देशित फिल्म ‘फाटेको जुत्ता’ को...  entertainment   \n",
              "\n",
              "   CategoryId  \n",
              "0           0  \n",
              "1           1  \n",
              "2           1  \n",
              "3           1  \n",
              "4           0  "
            ],
            "text/html": [
              "\n",
              "  <div id=\"df-41e9c4ae-870a-4b6d-a287-37ae9ef409a1\">\n",
              "    <div class=\"colab-df-container\">\n",
              "      <div>\n",
              "<style scoped>\n",
              "    .dataframe tbody tr th:only-of-type {\n",
              "        vertical-align: middle;\n",
              "    }\n",
              "\n",
              "    .dataframe tbody tr th {\n",
              "        vertical-align: top;\n",
              "    }\n",
              "\n",
              "    .dataframe thead th {\n",
              "        text-align: right;\n",
              "    }\n",
              "</style>\n",
              "<table border=\"1\" class=\"dataframe\">\n",
              "  <thead>\n",
              "    <tr style=\"text-align: right;\">\n",
              "      <th></th>\n",
              "      <th>headings</th>\n",
              "      <th>paras</th>\n",
              "      <th>label</th>\n",
              "      <th>CategoryId</th>\n",
              "    </tr>\n",
              "  </thead>\n",
              "  <tbody>\n",
              "    <tr>\n",
              "      <th>0</th>\n",
              "      <td>‘लभ स्टेसन’ भियतनाम र इन्डोनेसियामा</td>\n",
              "      <td>नेपाली कथानक फिल्म ‘लभ स्टेसन’ को टिम यति बेला...</td>\n",
              "      <td>entertainment</td>\n",
              "      <td>0</td>\n",
              "    </tr>\n",
              "    <tr>\n",
              "      <th>1</th>\n",
              "      <td>चाडबाडलगत्तै तरकारी सस्तियो</td>\n",
              "      <td>दसैंको मुखमा अस्वाभाविक बढेको तरकारी तथा फलफूल...</td>\n",
              "      <td>business</td>\n",
              "      <td>1</td>\n",
              "    </tr>\n",
              "    <tr>\n",
              "      <th>2</th>\n",
              "      <td>किङ्गफिसर बियर नेपाली बजारमा</td>\n",
              "      <td>एशियाकै ठूलो बियर कम्पनी मध्येको युनाइटेड ब्रु...</td>\n",
              "      <td>business</td>\n",
              "      <td>1</td>\n",
              "    </tr>\n",
              "    <tr>\n",
              "      <th>3</th>\n",
              "      <td>अर्बपतिका आँखा अन्तरिक्षतिर</td>\n",
              "      <td>संसारका धनाढ्यहरू अन्तरिक्ष यात्रालाई सस्तो र ...</td>\n",
              "      <td>business</td>\n",
              "      <td>1</td>\n",
              "    </tr>\n",
              "    <tr>\n",
              "      <th>4</th>\n",
              "      <td>‘आई एम सरी’ भन्दै सौगात</td>\n",
              "      <td>निकेश खड्का निर्देशित फिल्म ‘फाटेको जुत्ता’ को...</td>\n",
              "      <td>entertainment</td>\n",
              "      <td>0</td>\n",
              "    </tr>\n",
              "  </tbody>\n",
              "</table>\n",
              "</div>\n",
              "      <button class=\"colab-df-convert\" onclick=\"convertToInteractive('df-41e9c4ae-870a-4b6d-a287-37ae9ef409a1')\"\n",
              "              title=\"Convert this dataframe to an interactive table.\"\n",
              "              style=\"display:none;\">\n",
              "        \n",
              "  <svg xmlns=\"http://www.w3.org/2000/svg\" height=\"24px\"viewBox=\"0 0 24 24\"\n",
              "       width=\"24px\">\n",
              "    <path d=\"M0 0h24v24H0V0z\" fill=\"none\"/>\n",
              "    <path d=\"M18.56 5.44l.94 2.06.94-2.06 2.06-.94-2.06-.94-.94-2.06-.94 2.06-2.06.94zm-11 1L8.5 8.5l.94-2.06 2.06-.94-2.06-.94L8.5 2.5l-.94 2.06-2.06.94zm10 10l.94 2.06.94-2.06 2.06-.94-2.06-.94-.94-2.06-.94 2.06-2.06.94z\"/><path d=\"M17.41 7.96l-1.37-1.37c-.4-.4-.92-.59-1.43-.59-.52 0-1.04.2-1.43.59L10.3 9.45l-7.72 7.72c-.78.78-.78 2.05 0 2.83L4 21.41c.39.39.9.59 1.41.59.51 0 1.02-.2 1.41-.59l7.78-7.78 2.81-2.81c.8-.78.8-2.07 0-2.86zM5.41 20L4 18.59l7.72-7.72 1.47 1.35L5.41 20z\"/>\n",
              "  </svg>\n",
              "      </button>\n",
              "      \n",
              "  <style>\n",
              "    .colab-df-container {\n",
              "      display:flex;\n",
              "      flex-wrap:wrap;\n",
              "      gap: 12px;\n",
              "    }\n",
              "\n",
              "    .colab-df-convert {\n",
              "      background-color: #E8F0FE;\n",
              "      border: none;\n",
              "      border-radius: 50%;\n",
              "      cursor: pointer;\n",
              "      display: none;\n",
              "      fill: #1967D2;\n",
              "      height: 32px;\n",
              "      padding: 0 0 0 0;\n",
              "      width: 32px;\n",
              "    }\n",
              "\n",
              "    .colab-df-convert:hover {\n",
              "      background-color: #E2EBFA;\n",
              "      box-shadow: 0px 1px 2px rgba(60, 64, 67, 0.3), 0px 1px 3px 1px rgba(60, 64, 67, 0.15);\n",
              "      fill: #174EA6;\n",
              "    }\n",
              "\n",
              "    [theme=dark] .colab-df-convert {\n",
              "      background-color: #3B4455;\n",
              "      fill: #D2E3FC;\n",
              "    }\n",
              "\n",
              "    [theme=dark] .colab-df-convert:hover {\n",
              "      background-color: #434B5C;\n",
              "      box-shadow: 0px 1px 3px 1px rgba(0, 0, 0, 0.15);\n",
              "      filter: drop-shadow(0px 1px 2px rgba(0, 0, 0, 0.3));\n",
              "      fill: #FFFFFF;\n",
              "    }\n",
              "  </style>\n",
              "\n",
              "      <script>\n",
              "        const buttonEl =\n",
              "          document.querySelector('#df-41e9c4ae-870a-4b6d-a287-37ae9ef409a1 button.colab-df-convert');\n",
              "        buttonEl.style.display =\n",
              "          google.colab.kernel.accessAllowed ? 'block' : 'none';\n",
              "\n",
              "        async function convertToInteractive(key) {\n",
              "          const element = document.querySelector('#df-41e9c4ae-870a-4b6d-a287-37ae9ef409a1');\n",
              "          const dataTable =\n",
              "            await google.colab.kernel.invokeFunction('convertToInteractive',\n",
              "                                                     [key], {});\n",
              "          if (!dataTable) return;\n",
              "\n",
              "          const docLinkHtml = 'Like what you see? Visit the ' +\n",
              "            '<a target=\"_blank\" href=https://colab.research.google.com/notebooks/data_table.ipynb>data table notebook</a>'\n",
              "            + ' to learn more about interactive tables.';\n",
              "          element.innerHTML = '';\n",
              "          dataTable['output_type'] = 'display_data';\n",
              "          await google.colab.output.renderOutput(dataTable, element);\n",
              "          const docLink = document.createElement('div');\n",
              "          docLink.innerHTML = docLinkHtml;\n",
              "          element.appendChild(docLink);\n",
              "        }\n",
              "      </script>\n",
              "    </div>\n",
              "  </div>\n",
              "  "
            ]
          },
          "metadata": {},
          "execution_count": 18
        }
      ]
    },
    {
      "cell_type": "code",
      "source": [
        "category = dataset[['label', 'CategoryId']].drop_duplicates().sort_values('CategoryId')\n",
        "print(category)"
      ],
      "metadata": {
        "colab": {
          "base_uri": "https://localhost:8080/"
        },
        "id": "HqGjnVX0jgTI",
        "outputId": "714873b3-62ba-4dda-c6b1-76a1839cacdf"
      },
      "execution_count": 19,
      "outputs": [
        {
          "output_type": "stream",
          "name": "stdout",
          "text": [
            "           label  CategoryId\n",
            "0  entertainment           0\n",
            "1       business           1\n",
            "5         sports           2\n"
          ]
        }
      ]
    },
    {
      "cell_type": "code",
      "source": [
        "dataset.groupby('label').CategoryId.value_counts().plot(kind = \"bar\", color = [\"pink\", \"orange\", \"blue\"])\n",
        "plt.xlabel(\"Category of data\")\n",
        "plt.title(\"Visulaize numbers of Category of data\")\n",
        "plt.show()"
      ],
      "metadata": {
        "colab": {
          "base_uri": "https://localhost:8080/",
          "height": 377
        },
        "id": "95uMpP2IjE8Y",
        "outputId": "50370f80-2c60-4ad6-d6fe-281cd7f7e58c"
      },
      "execution_count": 22,
      "outputs": [
        {
          "output_type": "display_data",
          "data": {
            "text/plain": [
              "<Figure size 432x288 with 1 Axes>"
            ],
            "image/png": "[encoded data removed]"
          },
          "metadata": {
            "needs_background": "light"
          }
        }
      ]
    },
    {
      "cell_type": "code",
      "source": [
        "from wordcloud import WordCloud\n",
        "stop = set(stopwords.words('nepali'))\n",
        "entertainment = dataset[dataset['CategoryId'] == 0]\n",
        "entertainment = entertainment['paras']\n",
        "business = dataset[dataset['CategoryId'] == 1]\n",
        "business = business['paras']\n",
        "sports = dataset[dataset['CategoryId'] == 2]\n",
        "sports = sports['paras']\n",
        "\n",
        "def wordcloud_draw(dataset, color = 'white'):\n",
        "    words = ' '.join(dataset)\n",
        "    cleaned_word = ' '.join([word for word in words.split()\n",
        "    if (word != 'news' and word != 'text')])\n",
        "    wordcloud = WordCloud(stopwords = stop, background_color = color, width = 2500, height = 2500).generate(cleaned_word)\n",
        "    plt.figure(1, figsize = (10,7))\n",
        "    plt.imshow(wordcloud)\n",
        "    plt.axis(\"off\")\n",
        "    plt.show()\n",
        "\n",
        "print(\"entertainment related words:\")\n",
        "wordcloud_draw(entertainment, 'white')\n",
        "print(\"business related words:\")\n",
        "wordcloud_draw(business, 'white')\n",
        "print(\"sports related words:\")\n",
        "wordcloud_draw(sports, 'white')\n"
      ],
      "metadata": {
        "colab": {
          "base_uri": "https://localhost:8080/",
          "height": 1000
        },
        "id": "gqrUQrEGjwxz",
        "outputId": "fd70711e-8591-42b9-b7ff-0b8c46b4ae65"
      },
      "execution_count": 29,
      "outputs": [
        {
          "output_type": "stream",
          "name": "stdout",
          "text": [
            "entertainment related words:\n"
          ]
        },
        {
          "output_type": "display_data",
          "data": {
            "text/plain": [
              "<Figure size 720x504 with 1 Axes>"
            ],
            "image/png": "[encoded data removed]"
          },
          "metadata": {
            "needs_background": "light"
          }
        },
        {
          "output_type": "stream",
          "name": "stdout",
          "text": [
            "business related words:\n"
          ]
        },
        {
          "output_type": "display_data",
          "data": {
            "text/plain": [
              "<Figure size 720x504 with 1 Axes>"
            ],
            "image/png": "[encoded data removed]"
          },
          "metadata": {
            "needs_background": "light"
          }
        },
        {
          "output_type": "stream",
          "name": "stdout",
          "text": [
            "sports related words:\n"
          ]
        },
        {
          "output_type": "display_data",
          "data": {
            "text/plain": [
              "<Figure size 720x504 with 1 Axes>"
            ],
            "image/png": "[encoded data removed]"
          },
          "metadata": {
            "needs_background": "light"
          }
        }
      ]
    },
    {
      "cell_type": "code",
      "source": [
        "text = dataset[\"paras\"]\n",
        "text.head(10)"
      ],
      "metadata": {
        "colab": {
          "base_uri": "https://localhost:8080/"
        },
        "id": "M33di2XRkZ25",
        "outputId": "1dfe13fc-e838-4c4f-a056-88444f4111f9"
      },
      "execution_count": 30,
      "outputs": [
        {
          "output_type": "execute_result",
          "data": {
            "text/plain": [
              "0    नेपाली कथानक फिल्म ‘लभ स्टेसन’ को टिम यति बेला...\n",
              "1    दसैंको मुखमा अस्वाभाविक बढेको तरकारी तथा फलफूल...\n",
              "2    एशियाकै ठूलो बियर कम्पनी मध्येको युनाइटेड ब्रु...\n",
              "3    संसारका धनाढ्यहरू अन्तरिक्ष यात्रालाई सस्तो र ...\n",
              "4    निकेश खड्का निर्देशित फिल्म ‘फाटेको जुत्ता’ को...\n",
              "5    अधिकांस दोस्रो रोजाइका खेलाडी उतारेको त्रिभुवन...\n",
              "6    मोहम्मद सलाहले पहिलो हाफमा गरेको गोल र खेलको अ...\n",
              "7    चार वर्षयता नाजिर हुसेनले चारै वटा फिल्म खेले ...\n",
              "8    अमेरिकामा रहेका प्रधानमन्त्री केपी शर्मा ओलीले...\n",
              "9    भूकम्प गएको तीन वर्षको अवधिमा पाँचौंपटक पुनर्न...\n",
              "Name: paras, dtype: object"
            ]
          },
          "metadata": {},
          "execution_count": 30
        }
      ]
    },
    {
      "cell_type": "code",
      "source": [
        "text = dataset[\"label\"]\n",
        "text.head(10)"
      ],
      "metadata": {
        "colab": {
          "base_uri": "https://localhost:8080/"
        },
        "id": "wk16hX9VkdXD",
        "outputId": "059d4795-cf60-4e30-b703-ea262a5dbde0"
      },
      "execution_count": 31,
      "outputs": [
        {
          "output_type": "execute_result",
          "data": {
            "text/plain": [
              "0    entertainment\n",
              "1         business\n",
              "2         business\n",
              "3         business\n",
              "4    entertainment\n",
              "5           sports\n",
              "6           sports\n",
              "7    entertainment\n",
              "8         business\n",
              "9         business\n",
              "Name: label, dtype: object"
            ]
          },
          "metadata": {},
          "execution_count": 31
        }
      ]
    },
    {
      "cell_type": "code",
      "source": [
        "def remove_tags(text):\n",
        "    remove = re.compile(r'')\n",
        "    return re.sub(remove, '', text)\n",
        "    dataset['paras'] = dataset['paras'].apply(remove_tags)"
      ],
      "metadata": {
        "id": "Rcs3UST3key-"
      },
      "execution_count": 32,
      "outputs": []
    },
    {
      "cell_type": "code",
      "source": [
        "def special_char(text):\n",
        "    reviews = ''\n",
        "    for x in text:\n",
        "        if x.isalnum():\n",
        "            reviews = reviews + x\n",
        "        else:\n",
        "            reviews = reviews + ' '\n",
        "    return reviews\n",
        "    dataset['paras'] = dataset['paras'].apply(special_char)"
      ],
      "metadata": {
        "id": "ZVKKQvd3kjJK"
      },
      "execution_count": 33,
      "outputs": []
    },
    {
      "cell_type": "code",
      "source": [
        "def remove_stopwords(text):\n",
        "    stop_words = set(stopwords.words('english'))\n",
        "    words = word_tokenize(text)\n",
        "    return [x for x in words if x not in stop_words]\n",
        "    dataset['paras'] = dataset['paras'].apply(remove_stopwords)\n",
        "dataset['paras'][1]"
      ],
      "metadata": {
        "colab": {
          "base_uri": "https://localhost:8080/",
          "height": 35
        },
        "id": "yuSnBe2wmiqy",
        "outputId": "a0390c78-32d1-4745-ad89-783e4c81124d"
      },
      "execution_count": 34,
      "outputs": [
        {
          "output_type": "execute_result",
          "data": {
            "text/plain": [
              "'दसैंको मुखमा अस्वाभाविक बढेको तरकारी तथा फलफूलको भाउ घट्न थालेको छ\\u202f। उत्पादन वृद्धिसँगै सहज आपूर्तिका कारण मूल्य घटेको हो\\u202f।'"
            ],
            "application/vnd.google.colaboratory.intrinsic+json": {
              "type": "string"
            }
          },
          "metadata": {},
          "execution_count": 34
        }
      ]
    },
    {
      "cell_type": "code",
      "source": [
        "def lemmatize_word(text):\n",
        "    wordnet = WordNetLemmatizer()\n",
        "    return \" \".join([wordnet.lemmatize(word) for word in text])\n",
        "    dataset['paras'] = dataset['paras'].apply(lemmatize_word)\n",
        "dataset['paras'][1]"
      ],
      "metadata": {
        "colab": {
          "base_uri": "https://localhost:8080/",
          "height": 35
        },
        "id": "-RngMcjKmpJu",
        "outputId": "daa03207-c29d-4d4f-e00d-687a58694874"
      },
      "execution_count": 35,
      "outputs": [
        {
          "output_type": "execute_result",
          "data": {
            "text/plain": [
              "'दसैंको मुखमा अस्वाभाविक बढेको तरकारी तथा फलफूलको भाउ घट्न थालेको छ\\u202f। उत्पादन वृद्धिसँगै सहज आपूर्तिका कारण मूल्य घटेको हो\\u202f।'"
            ],
            "application/vnd.google.colaboratory.intrinsic+json": {
              "type": "string"
            }
          },
          "metadata": {},
          "execution_count": 35
        }
      ]
    },
    {
      "cell_type": "code",
      "source": [
        "dataset"
      ],
      "metadata": {
        "colab": {
          "base_uri": "https://localhost:8080/",
          "height": 424
        },
        "id": "JyMFLOiMmtcC",
        "outputId": "202effe0-808b-41d2-d246-f3639374a4d3"
      },
      "execution_count": 36,
      "outputs": [
        {
          "output_type": "execute_result",
          "data": {
            "text/plain": [
              "                                               headings  \\\n",
              "0                   ‘लभ स्टेसन’ भियतनाम र इन्डोनेसियामा   \n",
              "1                           चाडबाडलगत्तै तरकारी सस्तियो   \n",
              "2                        किङ्गफिसर बियर नेपाली बजारमा     \n",
              "3                           अर्बपतिका आँखा अन्तरिक्षतिर   \n",
              "4                               ‘आई एम सरी’ भन्दै सौगात   \n",
              "...                                                 ...   \n",
              "5970   चार जिल्लाका ७ सय स्थानमा नि:शुल्क ईन्टरनेट सेवा   \n",
              "5971                           लन्डनमा ‘लिलिबिली’ धमाधम   \n",
              "5972                            आर्मी समूहबाटै बाहिरियो   \n",
              "5973                 नारायणी किनारमा धमाधम होटल रिसोर्ट   \n",
              "5974  तरकारीमा सिन्डिकेट: व्यापारी पक्राउको विरोधमा ...   \n",
              "\n",
              "                                                  paras          label  \\\n",
              "0     नेपाली कथानक फिल्म ‘लभ स्टेसन’ को टिम यति बेला...  entertainment   \n",
              "1     दसैंको मुखमा अस्वाभाविक बढेको तरकारी तथा फलफूल...       business   \n",
              "2     एशियाकै ठूलो बियर कम्पनी मध्येको युनाइटेड ब्रु...       business   \n",
              "3     संसारका धनाढ्यहरू अन्तरिक्ष यात्रालाई सस्तो र ...       business   \n",
              "4     निकेश खड्का निर्देशित फिल्म ‘फाटेको जुत्ता’ को...  entertainment   \n",
              "...                                                 ...            ...   \n",
              "5970  नेपाल टेलिकमले भूकम्प प्रभावित चार जिल्लाका ७ ...       business   \n",
              "5971  मिलन चाम्सको निर्देशन रहेको ‘लिलिबिली’ को यति ...  entertainment   \n",
              "5972  शिवम् न्यु डायमन्ड विभागीय टोली त्रिभुवन आर्मी...         sports   \n",
              "5973  पूर्वी नवलपरासीको नारायणी किनार मध्यवर्ती क्षे...       business   \n",
              "5974  अनुगमनका क्रममा अवरोध गर्ने कालीमाटी तरकारी तथ...       business   \n",
              "\n",
              "      CategoryId  \n",
              "0              0  \n",
              "1              1  \n",
              "2              1  \n",
              "3              1  \n",
              "4              0  \n",
              "...          ...  \n",
              "5970           1  \n",
              "5971           0  \n",
              "5972           2  \n",
              "5973           1  \n",
              "5974           1  \n",
              "\n",
              "[5975 rows x 4 columns]"
            ],
            "text/html": [
              "\n",
              "  <div id=\"df-9b3a83a4-a973-4541-bcb0-974cdeaed0d8\">\n",
              "    <div class=\"colab-df-container\">\n",
              "      <div>\n",
              "<style scoped>\n",
              "    .dataframe tbody tr th:only-of-type {\n",
              "        vertical-align: middle;\n",
              "    }\n",
              "\n",
              "    .dataframe tbody tr th {\n",
              "        vertical-align: top;\n",
              "    }\n",
              "\n",
              "    .dataframe thead th {\n",
              "        text-align: right;\n",
              "    }\n",
              "</style>\n",
              "<table border=\"1\" class=\"dataframe\">\n",
              "  <thead>\n",
              "    <tr style=\"text-align: right;\">\n",
              "      <th></th>\n",
              "      <th>headings</th>\n",
              "      <th>paras</th>\n",
              "      <th>label</th>\n",
              "      <th>CategoryId</th>\n",
              "    </tr>\n",
              "  </thead>\n",
              "  <tbody>\n",
              "    <tr>\n",
              "      <th>0</th>\n",
              "      <td>‘लभ स्टेसन’ भियतनाम र इन्डोनेसियामा</td>\n",
              "      <td>नेपाली कथानक फिल्म ‘लभ स्टेसन’ को टिम यति बेला...</td>\n",
              "      <td>entertainment</td>\n",
              "      <td>0</td>\n",
              "    </tr>\n",
              "    <tr>\n",
              "      <th>1</th>\n",
              "      <td>चाडबाडलगत्तै तरकारी सस्तियो</td>\n",
              "      <td>दसैंको मुखमा अस्वाभाविक बढेको तरकारी तथा फलफूल...</td>\n",
              "      <td>business</td>\n",
              "      <td>1</td>\n",
              "    </tr>\n",
              "    <tr>\n",
              "      <th>2</th>\n",
              "      <td>किङ्गफिसर बियर नेपाली बजारमा</td>\n",
              "      <td>एशियाकै ठूलो बियर कम्पनी मध्येको युनाइटेड ब्रु...</td>\n",
              "      <td>business</td>\n",
              "      <td>1</td>\n",
              "    </tr>\n",
              "    <tr>\n",
              "      <th>3</th>\n",
              "      <td>अर्बपतिका आँखा अन्तरिक्षतिर</td>\n",
              "      <td>संसारका धनाढ्यहरू अन्तरिक्ष यात्रालाई सस्तो र ...</td>\n",
              "      <td>business</td>\n",
              "      <td>1</td>\n",
              "    </tr>\n",
              "    <tr>\n",
              "      <th>4</th>\n",
              "      <td>‘आई एम सरी’ भन्दै सौगात</td>\n",
              "      <td>निकेश खड्का निर्देशित फिल्म ‘फाटेको जुत्ता’ को...</td>\n",
              "      <td>entertainment</td>\n",
              "      <td>0</td>\n",
              "    </tr>\n",
              "    <tr>\n",
              "      <th>...</th>\n",
              "      <td>...</td>\n",
              "      <td>...</td>\n",
              "      <td>...</td>\n",
              "      <td>...</td>\n",
              "    </tr>\n",
              "    <tr>\n",
              "      <th>5970</th>\n",
              "      <td>चार जिल्लाका ७ सय स्थानमा नि:शुल्क ईन्टरनेट सेवा</td>\n",
              "      <td>नेपाल टेलिकमले भूकम्प प्रभावित चार जिल्लाका ७ ...</td>\n",
              "      <td>business</td>\n",
              "      <td>1</td>\n",
              "    </tr>\n",
              "    <tr>\n",
              "      <th>5971</th>\n",
              "      <td>लन्डनमा ‘लिलिबिली’ धमाधम</td>\n",
              "      <td>मिलन चाम्सको निर्देशन रहेको ‘लिलिबिली’ को यति ...</td>\n",
              "      <td>entertainment</td>\n",
              "      <td>0</td>\n",
              "    </tr>\n",
              "    <tr>\n",
              "      <th>5972</th>\n",
              "      <td>आर्मी समूहबाटै बाहिरियो</td>\n",
              "      <td>शिवम् न्यु डायमन्ड विभागीय टोली त्रिभुवन आर्मी...</td>\n",
              "      <td>sports</td>\n",
              "      <td>2</td>\n",
              "    </tr>\n",
              "    <tr>\n",
              "      <th>5973</th>\n",
              "      <td>नारायणी किनारमा धमाधम होटल रिसोर्ट</td>\n",
              "      <td>पूर्वी नवलपरासीको नारायणी किनार मध्यवर्ती क्षे...</td>\n",
              "      <td>business</td>\n",
              "      <td>1</td>\n",
              "    </tr>\n",
              "    <tr>\n",
              "      <th>5974</th>\n",
              "      <td>तरकारीमा सिन्डिकेट: व्यापारी पक्राउको विरोधमा ...</td>\n",
              "      <td>अनुगमनका क्रममा अवरोध गर्ने कालीमाटी तरकारी तथ...</td>\n",
              "      <td>business</td>\n",
              "      <td>1</td>\n",
              "    </tr>\n",
              "  </tbody>\n",
              "</table>\n",
              "<p>5975 rows × 4 columns</p>\n",
              "</div>\n",
              "      <button class=\"colab-df-convert\" onclick=\"convertToInteractive('df-9b3a83a4-a973-4541-bcb0-974cdeaed0d8')\"\n",
              "              title=\"Convert this dataframe to an interactive table.\"\n",
              "              style=\"display:none;\">\n",
              "        \n",
              "  <svg xmlns=\"http://www.w3.org/2000/svg\" height=\"24px\"viewBox=\"0 0 24 24\"\n",
              "       width=\"24px\">\n",
              "    <path d=\"M0 0h24v24H0V0z\" fill=\"none\"/>\n",
              "    <path d=\"M18.56 5.44l.94 2.06.94-2.06 2.06-.94-2.06-.94-.94-2.06-.94 2.06-2.06.94zm-11 1L8.5 8.5l.94-2.06 2.06-.94-2.06-.94L8.5 2.5l-.94 2.06-2.06.94zm10 10l.94 2.06.94-2.06 2.06-.94-2.06-.94-.94-2.06-.94 2.06-2.06.94z\"/><path d=\"M17.41 7.96l-1.37-1.37c-.4-.4-.92-.59-1.43-.59-.52 0-1.04.2-1.43.59L10.3 9.45l-7.72 7.72c-.78.78-.78 2.05 0 2.83L4 21.41c.39.39.9.59 1.41.59.51 0 1.02-.2 1.41-.59l7.78-7.78 2.81-2.81c.8-.78.8-2.07 0-2.86zM5.41 20L4 18.59l7.72-7.72 1.47 1.35L5.41 20z\"/>\n",
              "  </svg>\n",
              "      </button>\n",
              "      \n",
              "  <style>\n",
              "    .colab-df-container {\n",
              "      display:flex;\n",
              "      flex-wrap:wrap;\n",
              "      gap: 12px;\n",
              "    }\n",
              "\n",
              "    .colab-df-convert {\n",
              "      background-color: #E8F0FE;\n",
              "      border: none;\n",
              "      border-radius: 50%;\n",
              "      cursor: pointer;\n",
              "      display: none;\n",
              "      fill: #1967D2;\n",
              "      height: 32px;\n",
              "      padding: 0 0 0 0;\n",
              "      width: 32px;\n",
              "    }\n",
              "\n",
              "    .colab-df-convert:hover {\n",
              "      background-color: #E2EBFA;\n",
              "      box-shadow: 0px 1px 2px rgba(60, 64, 67, 0.3), 0px 1px 3px 1px rgba(60, 64, 67, 0.15);\n",
              "      fill: #174EA6;\n",
              "    }\n",
              "\n",
              "    [theme=dark] .colab-df-convert {\n",
              "      background-color: #3B4455;\n",
              "      fill: #D2E3FC;\n",
              "    }\n",
              "\n",
              "    [theme=dark] .colab-df-convert:hover {\n",
              "      background-color: #434B5C;\n",
              "      box-shadow: 0px 1px 3px 1px rgba(0, 0, 0, 0.15);\n",
              "      filter: drop-shadow(0px 1px 2px rgba(0, 0, 0, 0.3));\n",
              "      fill: #FFFFFF;\n",
              "    }\n",
              "  </style>\n",
              "\n",
              "      <script>\n",
              "        const buttonEl =\n",
              "          document.querySelector('#df-9b3a83a4-a973-4541-bcb0-974cdeaed0d8 button.colab-df-convert');\n",
              "        buttonEl.style.display =\n",
              "          google.colab.kernel.accessAllowed ? 'block' : 'none';\n",
              "\n",
              "        async function convertToInteractive(key) {\n",
              "          const element = document.querySelector('#df-9b3a83a4-a973-4541-bcb0-974cdeaed0d8');\n",
              "          const dataTable =\n",
              "            await google.colab.kernel.invokeFunction('convertToInteractive',\n",
              "                                                     [key], {});\n",
              "          if (!dataTable) return;\n",
              "\n",
              "          const docLinkHtml = 'Like what you see? Visit the ' +\n",
              "            '<a target=\"_blank\" href=https://colab.research.google.com/notebooks/data_table.ipynb>data table notebook</a>'\n",
              "            + ' to learn more about interactive tables.';\n",
              "          element.innerHTML = '';\n",
              "          dataTable['output_type'] = 'display_data';\n",
              "          await google.colab.output.renderOutput(dataTable, element);\n",
              "          const docLink = document.createElement('div');\n",
              "          docLink.innerHTML = docLinkHtml;\n",
              "          element.appendChild(docLink);\n",
              "        }\n",
              "      </script>\n",
              "    </div>\n",
              "  </div>\n",
              "  "
            ]
          },
          "metadata": {},
          "execution_count": 36
        }
      ]
    },
    {
      "cell_type": "code",
      "source": [
        "x = dataset['paras']\n",
        "y = dataset['CategoryId']"
      ],
      "metadata": {
        "id": "ifCb4jacmzx2"
      },
      "execution_count": 37,
      "outputs": []
    },
    {
      "cell_type": "code",
      "source": [
        "from sklearn.feature_extraction.text import CountVectorizer\n",
        "from sklearn.preprocessing import PolynomialFeatures\n",
        "x = np.array(dataset.iloc[:,0].values)\n",
        "y = np.array(dataset.CategoryId.values)\n",
        "cv = CountVectorizer(max_features=5000)\n",
        "x = cv.fit_transform(dataset.paras).toarray()\n",
        "print(\"X.shape = \",x.shape)\n",
        "print(\"y.shape = \",y.shape)"
      ],
      "metadata": {
        "colab": {
          "base_uri": "https://localhost:8080/"
        },
        "id": "tTVzWsi-m4jj",
        "outputId": "4793dea8-55e4-4374-ddad-7ad3b4710abd"
      },
      "execution_count": 39,
      "outputs": [
        {
          "output_type": "stream",
          "name": "stdout",
          "text": [
            "X.shape =  (5975, 4432)\n",
            "y.shape =  (5975,)\n"
          ]
        }
      ]
    },
    {
      "cell_type": "code",
      "source": [
        "from sklearn.model_selection import train_test_split\n",
        "x_train, x_test, y_train, y_test = train_test_split(x, y, test_size = 0.3, random_state = 0, shuffle = True)\n",
        "print(len(x_train))\n",
        "print(len(x_test))"
      ],
      "metadata": {
        "colab": {
          "base_uri": "https://localhost:8080/"
        },
        "id": "bP1pRyEynBnP",
        "outputId": "1ff2fc36-ff47-4dc3-e2ae-ec7117d90ab7"
      },
      "execution_count": 40,
      "outputs": [
        {
          "output_type": "stream",
          "name": "stdout",
          "text": [
            "4182\n",
            "1793\n"
          ]
        }
      ]
    },
    {
      "cell_type": "code",
      "source": [
        "perform_list = [ ]"
      ],
      "metadata": {
        "id": "r0zbX-78nHC8"
      },
      "execution_count": 41,
      "outputs": []
    },
    {
      "cell_type": "code",
      "source": [
        "def run_model(model_name, est_c, est_pnlty):\n",
        "    mdl = \"\"\n",
        "    if model_name == 'Logistic Regression':\n",
        "        mdl = LogisticRegression()\n",
        "    elif model_name == 'Random Forest':\n",
        "        mdl = RandomForestClassifier(n_estimators=100 ,criterion='entropy' , random_state=0)\n",
        "    elif model_name == 'Multinomial Naive Bayes':\n",
        "        mdl = MultinomialNB(alpha=1.0,fit_prior=True)\n",
        "    elif model_name == 'Support Vector Classifer':\n",
        "        mdl = SVC()\n",
        "    elif model_name == 'Decision Tree Classifier':\n",
        "        mdl = DecisionTreeClassifier()\n",
        "    elif model_name == 'Gaussian Naive Bayes':\n",
        "        mdl = GaussianNB()\n",
        "    oneVsRest = OneVsRestClassifier(mdl)\n",
        "    oneVsRest.fit(x_train, y_train)\n",
        "    y_pred = oneVsRest.predict(x_test)\n",
        "    # Performance metrics\n",
        "    accuracy = round(accuracy_score(y_test, y_pred) * 100, 2)\n",
        "    # Get precision, recall, f1 scores\n",
        "    precision, recall, f1score, support = score(y_test, y_pred, average='micro')\n",
        "    print(f'Test Accuracy Score of Basic {model_name}: % {accuracy}')\n",
        "    print(f'Precision : {precision}')\n",
        "    print(f'Recall : {recall}')\n",
        "    print(f'F1-score : {f1score}')\n",
        "    # Add performance parameters to list\n",
        "    perform_list.append(dict([('Model', model_name),('Test Accuracy', round(accuracy, 2)),('Precision', round(precision, 2)),('Recall', round(recall, 2)),('F1', round(f1score, 2))]))"
      ],
      "metadata": {
        "id": "YJCghRqgnLZu"
      },
      "execution_count": 42,
      "outputs": []
    },
    {
      "cell_type": "code",
      "source": [
        "run_model('Logistic Regression', est_c=None, est_pnlty=None)"
      ],
      "metadata": {
        "colab": {
          "base_uri": "https://localhost:8080/"
        },
        "id": "4xmjAn3vnQv1",
        "outputId": "a6ed3499-2f5e-42f4-f162-45c15749f429"
      },
      "execution_count": 43,
      "outputs": [
        {
          "output_type": "stream",
          "name": "stdout",
          "text": [
            "Test Accuracy Score of Basic Logistic Regression: % 90.18\n",
            "Precision : 0.901840490797546\n",
            "Recall : 0.901840490797546\n",
            "F1-score : 0.901840490797546\n"
          ]
        }
      ]
    },
    {
      "cell_type": "code",
      "source": [
        "run_model('Random Forest', est_c=None, est_pnlty=None)"
      ],
      "metadata": {
        "colab": {
          "base_uri": "https://localhost:8080/"
        },
        "id": "qP5hqcJpnS-1",
        "outputId": "4d06c189-082f-4454-ba64-4f6c5e2c826d"
      },
      "execution_count": 44,
      "outputs": [
        {
          "output_type": "stream",
          "name": "stdout",
          "text": [
            "Test Accuracy Score of Basic Random Forest: % 88.34\n",
            "Precision : 0.8834355828220859\n",
            "Recall : 0.8834355828220859\n",
            "F1-score : 0.8834355828220859\n"
          ]
        }
      ]
    },
    {
      "cell_type": "code",
      "source": [
        "run_model('Multinomial Naive Bayes', est_c=None, est_pnlty=None)"
      ],
      "metadata": {
        "colab": {
          "base_uri": "https://localhost:8080/"
        },
        "id": "KsaK-m5GnU54",
        "outputId": "37a22618-009d-4ae7-f706-c4619fa25970"
      },
      "execution_count": 45,
      "outputs": [
        {
          "output_type": "stream",
          "name": "stdout",
          "text": [
            "Test Accuracy Score of Basic Multinomial Naive Bayes: % 91.19\n",
            "Precision : 0.9118795315114333\n",
            "Recall : 0.9118795315114333\n",
            "F1-score : 0.9118795315114333\n"
          ]
        }
      ]
    },
    {
      "cell_type": "code",
      "source": [
        "run_model('Decision Tree Classifier', est_c=None, est_pnlty=None)"
      ],
      "metadata": {
        "colab": {
          "base_uri": "https://localhost:8080/"
        },
        "id": "FiGiofk_nW2_",
        "outputId": "0090fc25-c63c-4064-b1cf-2fd1985a2844"
      },
      "execution_count": 46,
      "outputs": [
        {
          "output_type": "stream",
          "name": "stdout",
          "text": [
            "Test Accuracy Score of Basic Decision Tree Classifier: % 70.11\n",
            "Precision : 0.7010596765197992\n",
            "Recall : 0.7010596765197992\n",
            "F1-score : 0.7010596765197992\n"
          ]
        }
      ]
    },
    {
      "cell_type": "code",
      "source": [
        "run_model('Gaussian Naive Bayes', est_c=None, est_pnlty=None)"
      ],
      "metadata": {
        "colab": {
          "base_uri": "https://localhost:8080/"
        },
        "id": "2hjplCwLnYnY",
        "outputId": "5ef52996-c10c-419c-adf7-4900406e99e0"
      },
      "execution_count": 47,
      "outputs": [
        {
          "output_type": "stream",
          "name": "stdout",
          "text": [
            "Test Accuracy Score of Basic Gaussian Naive Bayes: % 70.94\n",
            "Precision : 0.709425543781372\n",
            "Recall : 0.709425543781372\n",
            "F1-score : 0.7094255437813719\n"
          ]
        }
      ]
    },
    {
      "cell_type": "code",
      "source": [
        "model_performance = pd.DataFrame(data=perform_list)\n",
        "model_performance = model_performance[['Model', 'Test Accuracy', 'Precision', 'Recall', 'F1']]\n",
        "model_performance"
      ],
      "metadata": {
        "colab": {
          "base_uri": "https://localhost:8080/",
          "height": 206
        },
        "id": "DlUoxJWFnamG",
        "outputId": "7cc6c8e8-a8e3-431b-9524-1308b898cdcd"
      },
      "execution_count": 48,
      "outputs": [
        {
          "output_type": "execute_result",
          "data": {
            "text/plain": [
              "                      Model  Test Accuracy  Precision  Recall    F1\n",
              "0       Logistic Regression          90.18       0.90    0.90  0.90\n",
              "1             Random Forest          88.34       0.88    0.88  0.88\n",
              "2   Multinomial Naive Bayes          91.19       0.91    0.91  0.91\n",
              "3  Decision Tree Classifier          70.11       0.70    0.70  0.70\n",
              "4      Gaussian Naive Bayes          70.94       0.71    0.71  0.71"
            ],
            "text/html": [
              "\n",
              "  <div id=\"df-807712f6-2bf0-4cdf-8319-84836ed14b76\">\n",
              "    <div class=\"colab-df-container\">\n",
              "      <div>\n",
              "<style scoped>\n",
              "    .dataframe tbody tr th:only-of-type {\n",
              "        vertical-align: middle;\n",
              "    }\n",
              "\n",
              "    .dataframe tbody tr th {\n",
              "        vertical-align: top;\n",
              "    }\n",
              "\n",
              "    .dataframe thead th {\n",
              "        text-align: right;\n",
              "    }\n",
              "</style>\n",
              "<table border=\"1\" class=\"dataframe\">\n",
              "  <thead>\n",
              "    <tr style=\"text-align: right;\">\n",
              "      <th></th>\n",
              "      <th>Model</th>\n",
              "      <th>Test Accuracy</th>\n",
              "      <th>Precision</th>\n",
              "      <th>Recall</th>\n",
              "      <th>F1</th>\n",
              "    </tr>\n",
              "  </thead>\n",
              "  <tbody>\n",
              "    <tr>\n",
              "      <th>0</th>\n",
              "      <td>Logistic Regression</td>\n",
              "      <td>90.18</td>\n",
              "      <td>0.90</td>\n",
              "      <td>0.90</td>\n",
              "      <td>0.90</td>\n",
              "    </tr>\n",
              "    <tr>\n",
              "      <th>1</th>\n",
              "      <td>Random Forest</td>\n",
              "      <td>88.34</td>\n",
              "      <td>0.88</td>\n",
              "      <td>0.88</td>\n",
              "      <td>0.88</td>\n",
              "    </tr>\n",
              "    <tr>\n",
              "      <th>2</th>\n",
              "      <td>Multinomial Naive Bayes</td>\n",
              "      <td>91.19</td>\n",
              "      <td>0.91</td>\n",
              "      <td>0.91</td>\n",
              "      <td>0.91</td>\n",
              "    </tr>\n",
              "    <tr>\n",
              "      <th>3</th>\n",
              "      <td>Decision Tree Classifier</td>\n",
              "      <td>70.11</td>\n",
              "      <td>0.70</td>\n",
              "      <td>0.70</td>\n",
              "      <td>0.70</td>\n",
              "    </tr>\n",
              "    <tr>\n",
              "      <th>4</th>\n",
              "      <td>Gaussian Naive Bayes</td>\n",
              "      <td>70.94</td>\n",
              "      <td>0.71</td>\n",
              "      <td>0.71</td>\n",
              "      <td>0.71</td>\n",
              "    </tr>\n",
              "  </tbody>\n",
              "</table>\n",
              "</div>\n",
              "      <button class=\"colab-df-convert\" onclick=\"convertToInteractive('df-807712f6-2bf0-4cdf-8319-84836ed14b76')\"\n",
              "              title=\"Convert this dataframe to an interactive table.\"\n",
              "              style=\"display:none;\">\n",
              "        \n",
              "  <svg xmlns=\"http://www.w3.org/2000/svg\" height=\"24px\"viewBox=\"0 0 24 24\"\n",
              "       width=\"24px\">\n",
              "    <path d=\"M0 0h24v24H0V0z\" fill=\"none\"/>\n",
              "    <path d=\"M18.56 5.44l.94 2.06.94-2.06 2.06-.94-2.06-.94-.94-2.06-.94 2.06-2.06.94zm-11 1L8.5 8.5l.94-2.06 2.06-.94-2.06-.94L8.5 2.5l-.94 2.06-2.06.94zm10 10l.94 2.06.94-2.06 2.06-.94-2.06-.94-.94-2.06-.94 2.06-2.06.94z\"/><path d=\"M17.41 7.96l-1.37-1.37c-.4-.4-.92-.59-1.43-.59-.52 0-1.04.2-1.43.59L10.3 9.45l-7.72 7.72c-.78.78-.78 2.05 0 2.83L4 21.41c.39.39.9.59 1.41.59.51 0 1.02-.2 1.41-.59l7.78-7.78 2.81-2.81c.8-.78.8-2.07 0-2.86zM5.41 20L4 18.59l7.72-7.72 1.47 1.35L5.41 20z\"/>\n",
              "  </svg>\n",
              "      </button>\n",
              "      \n",
              "  <style>\n",
              "    .colab-df-container {\n",
              "      display:flex;\n",
              "      flex-wrap:wrap;\n",
              "      gap: 12px;\n",
              "    }\n",
              "\n",
              "    .colab-df-convert {\n",
              "      background-color: #E8F0FE;\n",
              "      border: none;\n",
              "      border-radius: 50%;\n",
              "      cursor: pointer;\n",
              "      display: none;\n",
              "      fill: #1967D2;\n",
              "      height: 32px;\n",
              "      padding: 0 0 0 0;\n",
              "      width: 32px;\n",
              "    }\n",
              "\n",
              "    .colab-df-convert:hover {\n",
              "      background-color: #E2EBFA;\n",
              "      box-shadow: 0px 1px 2px rgba(60, 64, 67, 0.3), 0px 1px 3px 1px rgba(60, 64, 67, 0.15);\n",
              "      fill: #174EA6;\n",
              "    }\n",
              "\n",
              "    [theme=dark] .colab-df-convert {\n",
              "      background-color: #3B4455;\n",
              "      fill: #D2E3FC;\n",
              "    }\n",
              "\n",
              "    [theme=dark] .colab-df-convert:hover {\n",
              "      background-color: #434B5C;\n",
              "      box-shadow: 0px 1px 3px 1px rgba(0, 0, 0, 0.15);\n",
              "      filter: drop-shadow(0px 1px 2px rgba(0, 0, 0, 0.3));\n",
              "      fill: #FFFFFF;\n",
              "    }\n",
              "  </style>\n",
              "\n",
              "      <script>\n",
              "        const buttonEl =\n",
              "          document.querySelector('#df-807712f6-2bf0-4cdf-8319-84836ed14b76 button.colab-df-convert');\n",
              "        buttonEl.style.display =\n",
              "          google.colab.kernel.accessAllowed ? 'block' : 'none';\n",
              "\n",
              "        async function convertToInteractive(key) {\n",
              "          const element = document.querySelector('#df-807712f6-2bf0-4cdf-8319-84836ed14b76');\n",
              "          const dataTable =\n",
              "            await google.colab.kernel.invokeFunction('convertToInteractive',\n",
              "                                                     [key], {});\n",
              "          if (!dataTable) return;\n",
              "\n",
              "          const docLinkHtml = 'Like what you see? Visit the ' +\n",
              "            '<a target=\"_blank\" href=https://colab.research.google.com/notebooks/data_table.ipynb>data table notebook</a>'\n",
              "            + ' to learn more about interactive tables.';\n",
              "          element.innerHTML = '';\n",
              "          dataTable['output_type'] = 'display_data';\n",
              "          await google.colab.output.renderOutput(dataTable, element);\n",
              "          const docLink = document.createElement('div');\n",
              "          docLink.innerHTML = docLinkHtml;\n",
              "          element.appendChild(docLink);\n",
              "        }\n",
              "      </script>\n",
              "    </div>\n",
              "  </div>\n",
              "  "
            ]
          },
          "metadata": {},
          "execution_count": 48
        }
      ]
    },
    {
      "cell_type": "code",
      "source": [
        "model = model_performance[\"Model\"]\n",
        "max_value = model_performance[\"Test Accuracy\"].max()\n",
        "print(\"The best accuracy of model is\", max_value,\"from Multinomial NB\")"
      ],
      "metadata": {
        "colab": {
          "base_uri": "https://localhost:8080/"
        },
        "id": "YXjTsVyJncrh",
        "outputId": "fe59476e-d917-41f8-d087-ad6a78009315"
      },
      "execution_count": 50,
      "outputs": [
        {
          "output_type": "stream",
          "name": "stdout",
          "text": [
            "The best accuracy of model is 91.19 from Multinomial NB\n"
          ]
        }
      ]
    },
    {
      "cell_type": "code",
      "source": [
        "classifier = MultinomialNB(alpha=1.0,fit_prior=True).fit(x_train,y_train)\n",
        "classifier\n",
        "y_pred = classifier.predict(x_test)"
      ],
      "metadata": {
        "id": "BlkhdD3tngiO"
      },
      "execution_count": 51,
      "outputs": []
    },
    {
      "cell_type": "code",
      "source": [
        "with open('NBnepmodel.pkl', 'wb') as file:\n",
        "    pickle.dump(classifier, file)"
      ],
      "metadata": {
        "id": "dHU4g9HdnrrK"
      },
      "execution_count": 52,
      "outputs": []
    },
    {
      "cell_type": "code",
      "source": [
        "y_pred1 = cv.transform(['शिवम् न्यु डायमन्ड विभागीय टोली त्रिभुवन आर्मी...'])\n",
        "yy = classifier.predict(y_pred1)\n",
        "result = \"\"\n",
        "if yy == [0]:\n",
        "    result = \"Entertainment News\"\n",
        "elif yy == [1]:\n",
        "    result = \"Business News\"\n",
        "elif yy == [2]:\n",
        "    result = \"Sports News\"\n",
        "\n",
        "print(result)"
      ],
      "metadata": {
        "colab": {
          "base_uri": "https://localhost:8080/"
        },
        "id": "QlwMnHtUn7O7",
        "outputId": "3668cf56-a1bf-4b4e-dbfd-703399b5d860"
      },
      "execution_count": 54,
      "outputs": [
        {
          "output_type": "stream",
          "name": "stdout",
          "text": [
            "Sports News\n"
          ]
        }
      ]
    }
  ]
}